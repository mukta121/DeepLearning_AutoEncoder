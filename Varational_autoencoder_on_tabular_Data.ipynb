{
  "nbformat": 4,
  "nbformat_minor": 0,
  "metadata": {
    "colab": {
      "name": "Varational_autoencoder_on_tabular_Data.ipynb",
      "provenance": [],
      "include_colab_link": true
    },
    "kernelspec": {
      "name": "python3",
      "display_name": "Python 3"
    },
    "accelerator": "TPU"
  },
  "cells": [
    {
      "cell_type": "markdown",
      "metadata": {
        "id": "view-in-github",
        "colab_type": "text"
      },
      "source": [
        "<a href=\"https://colab.research.google.com/github/mukta121/DeepLearning_AutoEncoder/blob/master/Varational_autoencoder_on_tabular_Data.ipynb\" target=\"_parent\"><img src=\"https://colab.research.google.com/assets/colab-badge.svg\" alt=\"Open In Colab\"/></a>"
      ]
    },
    {
      "cell_type": "code",
      "metadata": {
        "id": "Q3SGi3qsjWES",
        "colab_type": "code",
        "outputId": "7b075434-1789-4735-b0a5-64087cb81f9b",
        "colab": {
          "base_uri": "https://localhost:8080/",
          "height": 84
        }
      },
      "source": [
        "!pip install -q --upgrade tf-nightly==1.14.1-dev20190312 #tf-nightly-gpu==1.14.1-dev20190312\n",
        "!pip install -q tfp-nightly==0.7.0.dev20190312"
      ],
      "execution_count": 1,
      "outputs": [
        {
          "output_type": "stream",
          "text": [
            "\u001b[K     |████████████████████████████████| 98.4MB 2.8MB/s \n",
            "\u001b[K     |████████████████████████████████| 3.2MB 37.4MB/s \n",
            "\u001b[K     |████████████████████████████████| 460kB 42.2MB/s \n",
            "\u001b[K     |████████████████████████████████| 870kB 3.4MB/s \n",
            "\u001b[?25h"
          ],
          "name": "stdout"
        }
      ]
    },
    {
      "cell_type": "markdown",
      "metadata": {
        "id": "9CrvTwK2sAnI",
        "colab_type": "text"
      },
      "source": [
        "#Credit Card Fraud Detection"
      ]
    },
    {
      "cell_type": "code",
      "metadata": {
        "id": "77JyYWbRkhke",
        "colab_type": "code",
        "colab": {}
      },
      "source": [
        "from __future__ import absolute_import\n",
        "from __future__ import division\n",
        "from __future__ import print_function"
      ],
      "execution_count": 0,
      "outputs": []
    },
    {
      "cell_type": "code",
      "metadata": {
        "id": "cDd5rZx3lgup",
        "colab_type": "code",
        "colab": {}
      },
      "source": [
        "import numpy as np\n",
        "import tensorflow as tf\n",
        "from tensorflow.python import tf2\n",
        "if not tf2.enabled():\n",
        "    import tensorflow.compat.v2 as tf\n",
        "    tf.enable_v2_behavior()\n",
        "    assert tf2.enabled()\n",
        "\n",
        "# import tensorflow_datasets as tfds\n",
        "import tensorflow_probability as tfp\n",
        "\n",
        "tfk = tf.keras\n",
        "tfkl = tf.keras.layers\n",
        "tfpl = tfp.layers\n",
        "tfd = tfp.distributions"
      ],
      "execution_count": 0,
      "outputs": []
    },
    {
      "cell_type": "code",
      "metadata": {
        "id": "cierkhTTmOjX",
        "colab_type": "code",
        "colab": {}
      },
      "source": [
        "from tensorflow.keras.utils import plot_model\n",
        "from tensorflow.keras.callbacks import EarlyStopping, ModelCheckpoint\n",
        "import pandas as pd\n",
        "import matplotlib.pyplot as plt\n",
        "from sklearn.model_selection import train_test_split \n",
        "from sklearn.linear_model import LogisticRegression\n",
        "from sklearn.metrics import classification_report, accuracy_score, roc_auc_score, roc_curve\n",
        "from sklearn.preprocessing import MinMaxScaler\n",
        "from sklearn.manifold import TSNE\n",
        "import os"
      ],
      "execution_count": 0,
      "outputs": []
    },
    {
      "cell_type": "code",
      "metadata": {
        "id": "W-XBBdR0mVZ6",
        "colab_type": "code",
        "outputId": "b1b79727-d6c1-4522-b340-5260e4416bdc",
        "colab": {
          "base_uri": "https://localhost:8080/",
          "height": 50
        }
      },
      "source": [
        "%matplotlib inline\n",
        "np.random.seed(0)\n",
        "#tf.random.set_seed(0)\n",
        "print(tf.__version__)\n",
        "print(tfp.__version__)"
      ],
      "execution_count": 27,
      "outputs": [
        {
          "output_type": "stream",
          "text": [
            "1.14.1-dev20190312\n",
            "0.7.0-dev\n"
          ],
          "name": "stdout"
        }
      ]
    },
    {
      "cell_type": "code",
      "metadata": {
        "id": "JOV0VzYRmeo8",
        "colab_type": "code",
        "colab": {}
      },
      "source": [
        "### Utility Functions\n",
        "## Plots\n",
        "###Plot Feature Projection \n",
        "def tsne_plot(x1, y1, name=\"graph.png\"):\n",
        "    tsne = TSNE(n_components=2, random_state=0)\n",
        "    X_t = tsne.fit_transform(x1)\n",
        "    plt.figure(figsize=(12, 8))\n",
        "    plt.scatter(X_t[np.where(y1 == 0), 0], X_t[np.where(y1 == 0), 1], marker='o', color='g', linewidth='1', alpha=0.8, label='Non Fraud', s=2)\n",
        "    plt.scatter(X_t[np.where(y1 == 1), 0], X_t[np.where(y1 == 1), 1], marker='o', color='r', linewidth='1', alpha=0.8, label='Fraud', s=2)\n",
        "    plt.legend(loc='best');\n",
        "    plt.savefig(name);\n",
        "    plt.show();\n",
        "    \n",
        "# Plot Keras training history\n",
        "def plot_loss(hist):\n",
        "    plt.plot(hist.history['loss'])\n",
        "    plt.plot(hist.history['val_loss'])\n",
        "    plt.title('model loss')\n",
        "    plt.ylabel('loss')\n",
        "    plt.xlabel('epoch')\n",
        "    plt.legend(['train', 'test'], loc='upper left')\n",
        "    plt.yscale('log',basey=10)\n",
        "    plt.show()"
      ],
      "execution_count": 0,
      "outputs": []
    },
    {
      "cell_type": "code",
      "metadata": {
        "id": "pS7vJU6RrJU2",
        "colab_type": "code",
        "colab": {}
      },
      "source": [
        "##for less than 25MB\n",
        "#url='https://drive.google.com/open?id=1fT67WS0yRTYfb5NBAYseexH_OALycz0c'\n",
        "#raw_data = pd.read_csv(url)\n",
        "#raw_data"
      ],
      "execution_count": 0,
      "outputs": []
    },
    {
      "cell_type": "code",
      "metadata": {
        "id": "MxqLwvd8rE4-",
        "colab_type": "code",
        "outputId": "9fbef64f-f558-4934-d7ca-920e686b24c5",
        "colab": {
          "resources": {
            "http://localhost:8080/nbextensions/google.colab/files.js": {
              "data": "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",
              "ok": true,
              "headers": [
                [
                  "content-type",
                  "application/javascript"
                ]
              ],
              "status": 200,
              "status_text": ""
            }
          },
          "base_uri": "https://localhost:8080/",
          "height": 74
        }
      },
      "source": [
        "from google.colab import files\n",
        "uploaded = files.upload()"
      ],
      "execution_count": 19,
      "outputs": [
        {
          "output_type": "display_data",
          "data": {
            "text/html": [
              "\n",
              "     <input type=\"file\" id=\"files-f3e8506e-1732-4fcc-baa6-8faa63bc7441\" name=\"files[]\" multiple disabled />\n",
              "     <output id=\"result-f3e8506e-1732-4fcc-baa6-8faa63bc7441\">\n",
              "      Upload widget is only available when the cell has been executed in the\n",
              "      current browser session. Please rerun this cell to enable.\n",
              "      </output>\n",
              "      <script src=\"/nbextensions/google.colab/files.js\"></script> "
            ],
            "text/plain": [
              "<IPython.core.display.HTML object>"
            ]
          },
          "metadata": {
            "tags": []
          }
        },
        {
          "output_type": "stream",
          "text": [
            "Saving creditcard.csv to creditcard.csv\n"
          ],
          "name": "stdout"
        }
      ]
    },
    {
      "cell_type": "code",
      "metadata": {
        "id": "LRVqCBoj0ViZ",
        "colab_type": "code",
        "colab": {}
      },
      "source": [
        "import io\n",
        "raw_data = pd.read_csv(io.BytesIO(uploaded['creditcard.csv']))"
      ],
      "execution_count": 0,
      "outputs": []
    },
    {
      "cell_type": "code",
      "metadata": {
        "id": "j6vF31KTPOX6",
        "colab_type": "code",
        "outputId": "1c7451b4-0704-43f2-b45b-04b6aaaf0150",
        "colab": {
          "base_uri": "https://localhost:8080/",
          "height": 215
        }
      },
      "source": [
        "raw_data.head()"
      ],
      "execution_count": 0,
      "outputs": [
        {
          "output_type": "execute_result",
          "data": {
            "text/html": [
              "<div>\n",
              "<style scoped>\n",
              "    .dataframe tbody tr th:only-of-type {\n",
              "        vertical-align: middle;\n",
              "    }\n",
              "\n",
              "    .dataframe tbody tr th {\n",
              "        vertical-align: top;\n",
              "    }\n",
              "\n",
              "    .dataframe thead th {\n",
              "        text-align: right;\n",
              "    }\n",
              "</style>\n",
              "<table border=\"1\" class=\"dataframe\">\n",
              "  <thead>\n",
              "    <tr style=\"text-align: right;\">\n",
              "      <th></th>\n",
              "      <th>Time</th>\n",
              "      <th>V1</th>\n",
              "      <th>V2</th>\n",
              "      <th>V3</th>\n",
              "      <th>V4</th>\n",
              "      <th>V5</th>\n",
              "      <th>V6</th>\n",
              "      <th>V7</th>\n",
              "      <th>V8</th>\n",
              "      <th>V9</th>\n",
              "      <th>V10</th>\n",
              "      <th>V11</th>\n",
              "      <th>V12</th>\n",
              "      <th>V13</th>\n",
              "      <th>V14</th>\n",
              "      <th>V15</th>\n",
              "      <th>V16</th>\n",
              "      <th>V17</th>\n",
              "      <th>V18</th>\n",
              "      <th>V19</th>\n",
              "      <th>V20</th>\n",
              "      <th>V21</th>\n",
              "      <th>V22</th>\n",
              "      <th>V23</th>\n",
              "      <th>V24</th>\n",
              "      <th>V25</th>\n",
              "      <th>V26</th>\n",
              "      <th>V27</th>\n",
              "      <th>V28</th>\n",
              "      <th>Amount</th>\n",
              "      <th>Class</th>\n",
              "    </tr>\n",
              "  </thead>\n",
              "  <tbody>\n",
              "    <tr>\n",
              "      <th>0</th>\n",
              "      <td>0.0</td>\n",
              "      <td>-1.359807</td>\n",
              "      <td>-0.072781</td>\n",
              "      <td>2.536347</td>\n",
              "      <td>1.378155</td>\n",
              "      <td>-0.338321</td>\n",
              "      <td>0.462388</td>\n",
              "      <td>0.239599</td>\n",
              "      <td>0.098698</td>\n",
              "      <td>0.363787</td>\n",
              "      <td>0.090794</td>\n",
              "      <td>-0.551600</td>\n",
              "      <td>-0.617801</td>\n",
              "      <td>-0.991390</td>\n",
              "      <td>-0.311169</td>\n",
              "      <td>1.468177</td>\n",
              "      <td>-0.470401</td>\n",
              "      <td>0.207971</td>\n",
              "      <td>0.025791</td>\n",
              "      <td>0.403993</td>\n",
              "      <td>0.251412</td>\n",
              "      <td>-0.018307</td>\n",
              "      <td>0.277838</td>\n",
              "      <td>-0.110474</td>\n",
              "      <td>0.066928</td>\n",
              "      <td>0.128539</td>\n",
              "      <td>-0.189115</td>\n",
              "      <td>0.133558</td>\n",
              "      <td>-0.021053</td>\n",
              "      <td>149.62</td>\n",
              "      <td>0</td>\n",
              "    </tr>\n",
              "    <tr>\n",
              "      <th>1</th>\n",
              "      <td>0.0</td>\n",
              "      <td>1.191857</td>\n",
              "      <td>0.266151</td>\n",
              "      <td>0.166480</td>\n",
              "      <td>0.448154</td>\n",
              "      <td>0.060018</td>\n",
              "      <td>-0.082361</td>\n",
              "      <td>-0.078803</td>\n",
              "      <td>0.085102</td>\n",
              "      <td>-0.255425</td>\n",
              "      <td>-0.166974</td>\n",
              "      <td>1.612727</td>\n",
              "      <td>1.065235</td>\n",
              "      <td>0.489095</td>\n",
              "      <td>-0.143772</td>\n",
              "      <td>0.635558</td>\n",
              "      <td>0.463917</td>\n",
              "      <td>-0.114805</td>\n",
              "      <td>-0.183361</td>\n",
              "      <td>-0.145783</td>\n",
              "      <td>-0.069083</td>\n",
              "      <td>-0.225775</td>\n",
              "      <td>-0.638672</td>\n",
              "      <td>0.101288</td>\n",
              "      <td>-0.339846</td>\n",
              "      <td>0.167170</td>\n",
              "      <td>0.125895</td>\n",
              "      <td>-0.008983</td>\n",
              "      <td>0.014724</td>\n",
              "      <td>2.69</td>\n",
              "      <td>0</td>\n",
              "    </tr>\n",
              "    <tr>\n",
              "      <th>2</th>\n",
              "      <td>1.0</td>\n",
              "      <td>-1.358354</td>\n",
              "      <td>-1.340163</td>\n",
              "      <td>1.773209</td>\n",
              "      <td>0.379780</td>\n",
              "      <td>-0.503198</td>\n",
              "      <td>1.800499</td>\n",
              "      <td>0.791461</td>\n",
              "      <td>0.247676</td>\n",
              "      <td>-1.514654</td>\n",
              "      <td>0.207643</td>\n",
              "      <td>0.624501</td>\n",
              "      <td>0.066084</td>\n",
              "      <td>0.717293</td>\n",
              "      <td>-0.165946</td>\n",
              "      <td>2.345865</td>\n",
              "      <td>-2.890083</td>\n",
              "      <td>1.109969</td>\n",
              "      <td>-0.121359</td>\n",
              "      <td>-2.261857</td>\n",
              "      <td>0.524980</td>\n",
              "      <td>0.247998</td>\n",
              "      <td>0.771679</td>\n",
              "      <td>0.909412</td>\n",
              "      <td>-0.689281</td>\n",
              "      <td>-0.327642</td>\n",
              "      <td>-0.139097</td>\n",
              "      <td>-0.055353</td>\n",
              "      <td>-0.059752</td>\n",
              "      <td>378.66</td>\n",
              "      <td>0</td>\n",
              "    </tr>\n",
              "    <tr>\n",
              "      <th>3</th>\n",
              "      <td>1.0</td>\n",
              "      <td>-0.966272</td>\n",
              "      <td>-0.185226</td>\n",
              "      <td>1.792993</td>\n",
              "      <td>-0.863291</td>\n",
              "      <td>-0.010309</td>\n",
              "      <td>1.247203</td>\n",
              "      <td>0.237609</td>\n",
              "      <td>0.377436</td>\n",
              "      <td>-1.387024</td>\n",
              "      <td>-0.054952</td>\n",
              "      <td>-0.226487</td>\n",
              "      <td>0.178228</td>\n",
              "      <td>0.507757</td>\n",
              "      <td>-0.287924</td>\n",
              "      <td>-0.631418</td>\n",
              "      <td>-1.059647</td>\n",
              "      <td>-0.684093</td>\n",
              "      <td>1.965775</td>\n",
              "      <td>-1.232622</td>\n",
              "      <td>-0.208038</td>\n",
              "      <td>-0.108300</td>\n",
              "      <td>0.005274</td>\n",
              "      <td>-0.190321</td>\n",
              "      <td>-1.175575</td>\n",
              "      <td>0.647376</td>\n",
              "      <td>-0.221929</td>\n",
              "      <td>0.062723</td>\n",
              "      <td>0.061458</td>\n",
              "      <td>123.50</td>\n",
              "      <td>0</td>\n",
              "    </tr>\n",
              "    <tr>\n",
              "      <th>4</th>\n",
              "      <td>2.0</td>\n",
              "      <td>-1.158233</td>\n",
              "      <td>0.877737</td>\n",
              "      <td>1.548718</td>\n",
              "      <td>0.403034</td>\n",
              "      <td>-0.407193</td>\n",
              "      <td>0.095921</td>\n",
              "      <td>0.592941</td>\n",
              "      <td>-0.270533</td>\n",
              "      <td>0.817739</td>\n",
              "      <td>0.753074</td>\n",
              "      <td>-0.822843</td>\n",
              "      <td>0.538196</td>\n",
              "      <td>1.345852</td>\n",
              "      <td>-1.119670</td>\n",
              "      <td>0.175121</td>\n",
              "      <td>-0.451449</td>\n",
              "      <td>-0.237033</td>\n",
              "      <td>-0.038195</td>\n",
              "      <td>0.803487</td>\n",
              "      <td>0.408542</td>\n",
              "      <td>-0.009431</td>\n",
              "      <td>0.798278</td>\n",
              "      <td>-0.137458</td>\n",
              "      <td>0.141267</td>\n",
              "      <td>-0.206010</td>\n",
              "      <td>0.502292</td>\n",
              "      <td>0.219422</td>\n",
              "      <td>0.215153</td>\n",
              "      <td>69.99</td>\n",
              "      <td>0</td>\n",
              "    </tr>\n",
              "  </tbody>\n",
              "</table>\n",
              "</div>"
            ],
            "text/plain": [
              "   Time        V1        V2        V3  ...       V27       V28  Amount  Class\n",
              "0   0.0 -1.359807 -0.072781  2.536347  ...  0.133558 -0.021053  149.62      0\n",
              "1   0.0  1.191857  0.266151  0.166480  ... -0.008983  0.014724    2.69      0\n",
              "2   1.0 -1.358354 -1.340163  1.773209  ... -0.055353 -0.059752  378.66      0\n",
              "3   1.0 -0.966272 -0.185226  1.792993  ...  0.062723  0.061458  123.50      0\n",
              "4   2.0 -1.158233  0.877737  1.548718  ...  0.219422  0.215153   69.99      0\n",
              "\n",
              "[5 rows x 31 columns]"
            ]
          },
          "metadata": {
            "tags": []
          },
          "execution_count": 16
        }
      ]
    },
    {
      "cell_type": "code",
      "metadata": {
        "id": "EDdgn-tEPfje",
        "colab_type": "code",
        "colab": {}
      },
      "source": [
        "data, data_test = train_test_split(raw_data, test_size=0.25)"
      ],
      "execution_count": 0,
      "outputs": []
    },
    {
      "cell_type": "code",
      "metadata": {
        "id": "ztMMf5ZUP-tM",
        "colab_type": "code",
        "outputId": "5873f365-bc02-4e45-8c4f-ddb0fb8ea7c0",
        "colab": {
          "base_uri": "https://localhost:8080/",
          "height": 50
        }
      },
      "source": [
        "print(data.shape)\n",
        "print(data_test.shape)"
      ],
      "execution_count": 30,
      "outputs": [
        {
          "output_type": "stream",
          "text": [
            "(213605, 31)\n",
            "(71202, 31)\n"
          ],
          "name": "stdout"
        }
      ]
    },
    {
      "cell_type": "code",
      "metadata": {
        "id": "FudZpTIzQVdY",
        "colab_type": "code",
        "outputId": "1b163eb7-376c-4a92-c134-130ec8e03e8e",
        "colab": {
          "base_uri": "https://localhost:8080/",
          "height": 333
        }
      },
      "source": [
        "data.loc[:,\"Time\"] = data[\"Time\"].apply(lambda x : x / 3600 % 24)\n",
        "data.loc[:,'Amount'] = np.log(data['Amount']+1)\n",
        "\n",
        "data_test.loc[:,\"Time\"] = data_test[\"Time\"].apply(lambda x : x / 3600 % 24)\n",
        "data_test.loc[:,'Amount'] = np.log(data_test['Amount']+1)\n",
        "#data = data.drop(['Amount'], axis = 1)\n",
        "print(data.shape)\n",
        "data.head()"
      ],
      "execution_count": 31,
      "outputs": [
        {
          "output_type": "stream",
          "text": [
            "/usr/local/lib/python3.6/dist-packages/pandas/core/indexing.py:543: SettingWithCopyWarning: \n",
            "A value is trying to be set on a copy of a slice from a DataFrame.\n",
            "Try using .loc[row_indexer,col_indexer] = value instead\n",
            "\n",
            "See the caveats in the documentation: http://pandas.pydata.org/pandas-docs/stable/indexing.html#indexing-view-versus-copy\n",
            "  self.obj[item] = s\n"
          ],
          "name": "stderr"
        },
        {
          "output_type": "stream",
          "text": [
            "(213605, 31)\n"
          ],
          "name": "stdout"
        },
        {
          "output_type": "execute_result",
          "data": {
            "text/html": [
              "<div>\n",
              "<style scoped>\n",
              "    .dataframe tbody tr th:only-of-type {\n",
              "        vertical-align: middle;\n",
              "    }\n",
              "\n",
              "    .dataframe tbody tr th {\n",
              "        vertical-align: top;\n",
              "    }\n",
              "\n",
              "    .dataframe thead th {\n",
              "        text-align: right;\n",
              "    }\n",
              "</style>\n",
              "<table border=\"1\" class=\"dataframe\">\n",
              "  <thead>\n",
              "    <tr style=\"text-align: right;\">\n",
              "      <th></th>\n",
              "      <th>Time</th>\n",
              "      <th>V1</th>\n",
              "      <th>V2</th>\n",
              "      <th>V3</th>\n",
              "      <th>V4</th>\n",
              "      <th>V5</th>\n",
              "      <th>V6</th>\n",
              "      <th>V7</th>\n",
              "      <th>V8</th>\n",
              "      <th>V9</th>\n",
              "      <th>V10</th>\n",
              "      <th>V11</th>\n",
              "      <th>V12</th>\n",
              "      <th>V13</th>\n",
              "      <th>V14</th>\n",
              "      <th>V15</th>\n",
              "      <th>V16</th>\n",
              "      <th>V17</th>\n",
              "      <th>V18</th>\n",
              "      <th>V19</th>\n",
              "      <th>V20</th>\n",
              "      <th>V21</th>\n",
              "      <th>V22</th>\n",
              "      <th>V23</th>\n",
              "      <th>V24</th>\n",
              "      <th>V25</th>\n",
              "      <th>V26</th>\n",
              "      <th>V27</th>\n",
              "      <th>V28</th>\n",
              "      <th>Amount</th>\n",
              "      <th>Class</th>\n",
              "    </tr>\n",
              "  </thead>\n",
              "  <tbody>\n",
              "    <tr>\n",
              "      <th>194763</th>\n",
              "      <td>12.318611</td>\n",
              "      <td>2.047163</td>\n",
              "      <td>0.107987</td>\n",
              "      <td>-1.806515</td>\n",
              "      <td>0.072733</td>\n",
              "      <td>0.248371</td>\n",
              "      <td>-1.744837</td>\n",
              "      <td>0.712448</td>\n",
              "      <td>-0.488842</td>\n",
              "      <td>-0.102709</td>\n",
              "      <td>0.181618</td>\n",
              "      <td>1.631225</td>\n",
              "      <td>1.176142</td>\n",
              "      <td>-0.241013</td>\n",
              "      <td>1.040992</td>\n",
              "      <td>-0.328446</td>\n",
              "      <td>-0.673208</td>\n",
              "      <td>-0.245852</td>\n",
              "      <td>-0.331582</td>\n",
              "      <td>0.113072</td>\n",
              "      <td>-0.261380</td>\n",
              "      <td>0.241017</td>\n",
              "      <td>0.822618</td>\n",
              "      <td>0.023000</td>\n",
              "      <td>0.549868</td>\n",
              "      <td>0.322173</td>\n",
              "      <td>0.191755</td>\n",
              "      <td>-0.085025</td>\n",
              "      <td>-0.084292</td>\n",
              "      <td>0.570980</td>\n",
              "      <td>0</td>\n",
              "    </tr>\n",
              "    <tr>\n",
              "      <th>135660</th>\n",
              "      <td>22.595556</td>\n",
              "      <td>1.282404</td>\n",
              "      <td>0.459864</td>\n",
              "      <td>-0.372286</td>\n",
              "      <td>0.826375</td>\n",
              "      <td>0.463568</td>\n",
              "      <td>-0.466407</td>\n",
              "      <td>0.460867</td>\n",
              "      <td>-0.186469</td>\n",
              "      <td>-0.549700</td>\n",
              "      <td>0.203961</td>\n",
              "      <td>0.787663</td>\n",
              "      <td>0.882770</td>\n",
              "      <td>0.417271</td>\n",
              "      <td>0.642625</td>\n",
              "      <td>-0.010424</td>\n",
              "      <td>0.161875</td>\n",
              "      <td>-0.835298</td>\n",
              "      <td>0.302139</td>\n",
              "      <td>0.293010</td>\n",
              "      <td>-0.096751</td>\n",
              "      <td>0.013986</td>\n",
              "      <td>0.083896</td>\n",
              "      <td>-0.247504</td>\n",
              "      <td>-0.325527</td>\n",
              "      <td>0.927293</td>\n",
              "      <td>-0.272555</td>\n",
              "      <td>-0.010168</td>\n",
              "      <td>-0.005332</td>\n",
              "      <td>1.026042</td>\n",
              "      <td>0</td>\n",
              "    </tr>\n",
              "    <tr>\n",
              "      <th>259186</th>\n",
              "      <td>20.167778</td>\n",
              "      <td>-0.414863</td>\n",
              "      <td>0.012026</td>\n",
              "      <td>1.356386</td>\n",
              "      <td>1.107374</td>\n",
              "      <td>0.813456</td>\n",
              "      <td>-0.156497</td>\n",
              "      <td>-0.372675</td>\n",
              "      <td>0.031095</td>\n",
              "      <td>-0.100143</td>\n",
              "      <td>-0.158606</td>\n",
              "      <td>-1.137380</td>\n",
              "      <td>0.674799</td>\n",
              "      <td>2.027621</td>\n",
              "      <td>-0.272567</td>\n",
              "      <td>1.802644</td>\n",
              "      <td>-0.812031</td>\n",
              "      <td>0.098509</td>\n",
              "      <td>0.376851</td>\n",
              "      <td>2.958766</td>\n",
              "      <td>0.564341</td>\n",
              "      <td>-0.052272</td>\n",
              "      <td>-0.088160</td>\n",
              "      <td>0.062521</td>\n",
              "      <td>-0.680805</td>\n",
              "      <td>-0.641474</td>\n",
              "      <td>-0.159995</td>\n",
              "      <td>0.237628</td>\n",
              "      <td>0.204343</td>\n",
              "      <td>1.938742</td>\n",
              "      <td>0</td>\n",
              "    </tr>\n",
              "    <tr>\n",
              "      <th>87387</th>\n",
              "      <td>17.128333</td>\n",
              "      <td>-1.432948</td>\n",
              "      <td>1.478076</td>\n",
              "      <td>0.576724</td>\n",
              "      <td>0.207540</td>\n",
              "      <td>-0.670662</td>\n",
              "      <td>-0.464572</td>\n",
              "      <td>0.221023</td>\n",
              "      <td>-0.099811</td>\n",
              "      <td>1.561896</td>\n",
              "      <td>1.511193</td>\n",
              "      <td>-0.029435</td>\n",
              "      <td>0.710931</td>\n",
              "      <td>0.088355</td>\n",
              "      <td>-0.913471</td>\n",
              "      <td>-0.376058</td>\n",
              "      <td>-0.992295</td>\n",
              "      <td>0.361036</td>\n",
              "      <td>-1.219535</td>\n",
              "      <td>-0.514430</td>\n",
              "      <td>0.266179</td>\n",
              "      <td>-0.055014</td>\n",
              "      <td>0.364330</td>\n",
              "      <td>0.154670</td>\n",
              "      <td>0.635611</td>\n",
              "      <td>-0.366314</td>\n",
              "      <td>0.163690</td>\n",
              "      <td>-0.750285</td>\n",
              "      <td>-0.275117</td>\n",
              "      <td>2.322388</td>\n",
              "      <td>0</td>\n",
              "    </tr>\n",
              "    <tr>\n",
              "      <th>267282</th>\n",
              "      <td>21.195278</td>\n",
              "      <td>2.051016</td>\n",
              "      <td>-0.016765</td>\n",
              "      <td>-2.284865</td>\n",
              "      <td>0.302168</td>\n",
              "      <td>0.786895</td>\n",
              "      <td>-0.998558</td>\n",
              "      <td>0.768990</td>\n",
              "      <td>-0.464383</td>\n",
              "      <td>0.362863</td>\n",
              "      <td>-0.031401</td>\n",
              "      <td>-1.124247</td>\n",
              "      <td>0.263750</td>\n",
              "      <td>-0.036857</td>\n",
              "      <td>0.617273</td>\n",
              "      <td>-0.146163</td>\n",
              "      <td>-0.774674</td>\n",
              "      <td>-0.240874</td>\n",
              "      <td>-0.438419</td>\n",
              "      <td>0.273518</td>\n",
              "      <td>-0.139341</td>\n",
              "      <td>0.133331</td>\n",
              "      <td>0.491780</td>\n",
              "      <td>-0.119020</td>\n",
              "      <td>0.527179</td>\n",
              "      <td>0.607105</td>\n",
              "      <td>-0.090453</td>\n",
              "      <td>-0.065787</td>\n",
              "      <td>-0.062680</td>\n",
              "      <td>3.882182</td>\n",
              "      <td>0</td>\n",
              "    </tr>\n",
              "  </tbody>\n",
              "</table>\n",
              "</div>"
            ],
            "text/plain": [
              "             Time        V1        V2  ...       V28    Amount  Class\n",
              "194763  12.318611  2.047163  0.107987  ... -0.084292  0.570980      0\n",
              "135660  22.595556  1.282404  0.459864  ... -0.005332  1.026042      0\n",
              "259186  20.167778 -0.414863  0.012026  ...  0.204343  1.938742      0\n",
              "87387   17.128333 -1.432948  1.478076  ... -0.275117  2.322388      0\n",
              "267282  21.195278  2.051016 -0.016765  ... -0.062680  3.882182      0\n",
              "\n",
              "[5 rows x 31 columns]"
            ]
          },
          "metadata": {
            "tags": []
          },
          "execution_count": 31
        }
      ]
    },
    {
      "cell_type": "code",
      "metadata": {
        "id": "BjPnEDCoRb4_",
        "colab_type": "code",
        "colab": {}
      },
      "source": [
        "non_fraud = data[data['Class'] == 0].sample(1000)\n",
        "fraud = data[data['Class'] == 1]\n",
        "df = non_fraud.append(fraud).sample(frac=1).reset_index(drop=True)"
      ],
      "execution_count": 0,
      "outputs": []
    },
    {
      "cell_type": "code",
      "metadata": {
        "id": "TAsP-hgv4yVb",
        "colab_type": "code",
        "outputId": "f9411759-c22f-4ff6-cd28-82e363b4c59f",
        "colab": {
          "base_uri": "https://localhost:8080/",
          "height": 215
        }
      },
      "source": [
        "df.head()"
      ],
      "execution_count": 33,
      "outputs": [
        {
          "output_type": "execute_result",
          "data": {
            "text/html": [
              "<div>\n",
              "<style scoped>\n",
              "    .dataframe tbody tr th:only-of-type {\n",
              "        vertical-align: middle;\n",
              "    }\n",
              "\n",
              "    .dataframe tbody tr th {\n",
              "        vertical-align: top;\n",
              "    }\n",
              "\n",
              "    .dataframe thead th {\n",
              "        text-align: right;\n",
              "    }\n",
              "</style>\n",
              "<table border=\"1\" class=\"dataframe\">\n",
              "  <thead>\n",
              "    <tr style=\"text-align: right;\">\n",
              "      <th></th>\n",
              "      <th>Time</th>\n",
              "      <th>V1</th>\n",
              "      <th>V2</th>\n",
              "      <th>V3</th>\n",
              "      <th>V4</th>\n",
              "      <th>V5</th>\n",
              "      <th>V6</th>\n",
              "      <th>V7</th>\n",
              "      <th>V8</th>\n",
              "      <th>V9</th>\n",
              "      <th>V10</th>\n",
              "      <th>V11</th>\n",
              "      <th>V12</th>\n",
              "      <th>V13</th>\n",
              "      <th>V14</th>\n",
              "      <th>V15</th>\n",
              "      <th>V16</th>\n",
              "      <th>V17</th>\n",
              "      <th>V18</th>\n",
              "      <th>V19</th>\n",
              "      <th>V20</th>\n",
              "      <th>V21</th>\n",
              "      <th>V22</th>\n",
              "      <th>V23</th>\n",
              "      <th>V24</th>\n",
              "      <th>V25</th>\n",
              "      <th>V26</th>\n",
              "      <th>V27</th>\n",
              "      <th>V28</th>\n",
              "      <th>Amount</th>\n",
              "      <th>Class</th>\n",
              "    </tr>\n",
              "  </thead>\n",
              "  <tbody>\n",
              "    <tr>\n",
              "      <th>0</th>\n",
              "      <td>12.119444</td>\n",
              "      <td>-0.237432</td>\n",
              "      <td>0.841994</td>\n",
              "      <td>-0.873499</td>\n",
              "      <td>-0.987010</td>\n",
              "      <td>1.686711</td>\n",
              "      <td>1.196473</td>\n",
              "      <td>0.485981</td>\n",
              "      <td>0.595062</td>\n",
              "      <td>0.157745</td>\n",
              "      <td>-0.439106</td>\n",
              "      <td>0.862478</td>\n",
              "      <td>-0.205000</td>\n",
              "      <td>-1.594901</td>\n",
              "      <td>-0.530732</td>\n",
              "      <td>0.058503</td>\n",
              "      <td>-0.115990</td>\n",
              "      <td>0.805962</td>\n",
              "      <td>-0.693983</td>\n",
              "      <td>-0.800050</td>\n",
              "      <td>-0.025578</td>\n",
              "      <td>-0.299184</td>\n",
              "      <td>-0.646481</td>\n",
              "      <td>0.116880</td>\n",
              "      <td>-1.093683</td>\n",
              "      <td>-0.588950</td>\n",
              "      <td>0.234334</td>\n",
              "      <td>0.370088</td>\n",
              "      <td>0.112346</td>\n",
              "      <td>1.851599</td>\n",
              "      <td>0</td>\n",
              "    </tr>\n",
              "    <tr>\n",
              "      <th>1</th>\n",
              "      <td>2.347500</td>\n",
              "      <td>0.314597</td>\n",
              "      <td>2.660670</td>\n",
              "      <td>-5.920037</td>\n",
              "      <td>4.522500</td>\n",
              "      <td>-2.315027</td>\n",
              "      <td>-2.278352</td>\n",
              "      <td>-4.684054</td>\n",
              "      <td>1.202270</td>\n",
              "      <td>-0.694696</td>\n",
              "      <td>-5.526278</td>\n",
              "      <td>6.662437</td>\n",
              "      <td>-8.525465</td>\n",
              "      <td>0.742745</td>\n",
              "      <td>-7.678668</td>\n",
              "      <td>0.593070</td>\n",
              "      <td>-4.478137</td>\n",
              "      <td>-5.844266</td>\n",
              "      <td>-1.102731</td>\n",
              "      <td>2.177386</td>\n",
              "      <td>0.562706</td>\n",
              "      <td>0.743314</td>\n",
              "      <td>0.064038</td>\n",
              "      <td>0.677842</td>\n",
              "      <td>0.083008</td>\n",
              "      <td>-1.911034</td>\n",
              "      <td>0.322188</td>\n",
              "      <td>0.620867</td>\n",
              "      <td>0.185030</td>\n",
              "      <td>0.693147</td>\n",
              "      <td>1</td>\n",
              "    </tr>\n",
              "    <tr>\n",
              "      <th>2</th>\n",
              "      <td>16.800000</td>\n",
              "      <td>1.175940</td>\n",
              "      <td>-0.159485</td>\n",
              "      <td>-1.213320</td>\n",
              "      <td>0.301701</td>\n",
              "      <td>2.141847</td>\n",
              "      <td>3.623126</td>\n",
              "      <td>-0.379087</td>\n",
              "      <td>0.837418</td>\n",
              "      <td>0.167131</td>\n",
              "      <td>-0.039339</td>\n",
              "      <td>-0.541686</td>\n",
              "      <td>0.237992</td>\n",
              "      <td>-0.214755</td>\n",
              "      <td>0.201722</td>\n",
              "      <td>-0.145469</td>\n",
              "      <td>-0.095333</td>\n",
              "      <td>-0.509491</td>\n",
              "      <td>-0.067061</td>\n",
              "      <td>0.349125</td>\n",
              "      <td>0.053328</td>\n",
              "      <td>-0.156026</td>\n",
              "      <td>-0.504686</td>\n",
              "      <td>-0.166470</td>\n",
              "      <td>1.012198</td>\n",
              "      <td>0.876597</td>\n",
              "      <td>-0.331453</td>\n",
              "      <td>0.016793</td>\n",
              "      <td>0.020333</td>\n",
              "      <td>4.000583</td>\n",
              "      <td>0</td>\n",
              "    </tr>\n",
              "    <tr>\n",
              "      <th>3</th>\n",
              "      <td>8.136389</td>\n",
              "      <td>-1.550273</td>\n",
              "      <td>1.088689</td>\n",
              "      <td>-2.393388</td>\n",
              "      <td>1.008733</td>\n",
              "      <td>-1.087562</td>\n",
              "      <td>-1.104602</td>\n",
              "      <td>-2.670503</td>\n",
              "      <td>0.147655</td>\n",
              "      <td>-0.978626</td>\n",
              "      <td>-3.514133</td>\n",
              "      <td>3.586042</td>\n",
              "      <td>-4.053358</td>\n",
              "      <td>0.862426</td>\n",
              "      <td>-5.765823</td>\n",
              "      <td>-0.507511</td>\n",
              "      <td>-4.921865</td>\n",
              "      <td>-9.567268</td>\n",
              "      <td>-2.772974</td>\n",
              "      <td>1.717095</td>\n",
              "      <td>0.327490</td>\n",
              "      <td>0.802316</td>\n",
              "      <td>1.037105</td>\n",
              "      <td>0.095815</td>\n",
              "      <td>-0.320191</td>\n",
              "      <td>-0.080731</td>\n",
              "      <td>0.091012</td>\n",
              "      <td>0.024928</td>\n",
              "      <td>-0.077820</td>\n",
              "      <td>2.893700</td>\n",
              "      <td>1</td>\n",
              "    </tr>\n",
              "    <tr>\n",
              "      <th>4</th>\n",
              "      <td>9.862778</td>\n",
              "      <td>2.193770</td>\n",
              "      <td>-1.594469</td>\n",
              "      <td>-0.316619</td>\n",
              "      <td>-1.429214</td>\n",
              "      <td>-1.773657</td>\n",
              "      <td>-0.497934</td>\n",
              "      <td>-1.533021</td>\n",
              "      <td>-0.085693</td>\n",
              "      <td>-0.878787</td>\n",
              "      <td>1.521359</td>\n",
              "      <td>-0.747380</td>\n",
              "      <td>-0.592949</td>\n",
              "      <td>0.750439</td>\n",
              "      <td>-0.764173</td>\n",
              "      <td>0.098069</td>\n",
              "      <td>-0.371368</td>\n",
              "      <td>0.441160</td>\n",
              "      <td>0.297431</td>\n",
              "      <td>-0.566960</td>\n",
              "      <td>-0.340137</td>\n",
              "      <td>0.138634</td>\n",
              "      <td>0.892122</td>\n",
              "      <td>0.201487</td>\n",
              "      <td>1.168394</td>\n",
              "      <td>-0.236176</td>\n",
              "      <td>-0.022404</td>\n",
              "      <td>0.036604</td>\n",
              "      <td>-0.025818</td>\n",
              "      <td>3.761200</td>\n",
              "      <td>0</td>\n",
              "    </tr>\n",
              "  </tbody>\n",
              "</table>\n",
              "</div>"
            ],
            "text/plain": [
              "        Time        V1        V2        V3  ...       V27       V28    Amount  Class\n",
              "0  12.119444 -0.237432  0.841994 -0.873499  ...  0.370088  0.112346  1.851599      0\n",
              "1   2.347500  0.314597  2.660670 -5.920037  ...  0.620867  0.185030  0.693147      1\n",
              "2  16.800000  1.175940 -0.159485 -1.213320  ...  0.016793  0.020333  4.000583      0\n",
              "3   8.136389 -1.550273  1.088689 -2.393388  ...  0.024928 -0.077820  2.893700      1\n",
              "4   9.862778  2.193770 -1.594469 -0.316619  ...  0.036604 -0.025818  3.761200      0\n",
              "\n",
              "[5 rows x 31 columns]"
            ]
          },
          "metadata": {
            "tags": []
          },
          "execution_count": 33
        }
      ]
    },
    {
      "cell_type": "code",
      "metadata": {
        "id": "joy3mPLiLO78",
        "colab_type": "code",
        "colab": {}
      },
      "source": [
        "X = df.drop(['Class'], axis = 1).values\n",
        "Y = df[\"Class\"].values"
      ],
      "execution_count": 0,
      "outputs": []
    },
    {
      "cell_type": "code",
      "metadata": {
        "id": "LP6S0ki-L5Vp",
        "colab_type": "code",
        "outputId": "3bf28585-b508-43ed-c2a1-184ffe142ff6",
        "colab": {
          "base_uri": "https://localhost:8080/",
          "height": 486
        }
      },
      "source": [
        "tsne_plot(X, Y, \"original.png\")"
      ],
      "execution_count": 35,
      "outputs": [
        {
          "output_type": "display_data",
          "data": {
            "image/png": "[encoded data removed]",
            "text/plain": [
              "<Figure size 864x576 with 1 Axes>"
            ]
          },
          "metadata": {
            "tags": []
          }
        }
      ]
    },
    {
      "cell_type": "code",
      "metadata": {
        "id": "Hc5u28LJTxFR",
        "colab_type": "code",
        "colab": {}
      },
      "source": [
        "def dense_layers(sizes):\n",
        "    return tfk.Sequential([tfkl.Dense(size, activation=tf.nn.leaky_relu) for size in sizes])"
      ],
      "execution_count": 0,
      "outputs": []
    },
    {
      "cell_type": "code",
      "metadata": {
        "id": "eT0tg6d2UI4h",
        "colab_type": "code",
        "colab": {}
      },
      "source": [
        "original_dim = X.shape[1]\n",
        "input_shape = X[0].shape\n",
        "intermediary_dims = [20, 10, 8]\n",
        "latent_dim = 2\n",
        "batch_size = 128\n",
        "max_epochs = 1000"
      ],
      "execution_count": 0,
      "outputs": []
    },
    {
      "cell_type": "code",
      "metadata": {
        "id": "-cXyc8qpUS-3",
        "colab_type": "code",
        "colab": {}
      },
      "source": [
        "prior = tfd.MultivariateNormalDiag(loc=tf.zeros([latent_dim]),scale_identity_multiplier=1.0)"
      ],
      "execution_count": 0,
      "outputs": []
    },
    {
      "cell_type": "code",
      "metadata": {
        "id": "0htoOW-PXwfJ",
        "colab_type": "code",
        "colab": {}
      },
      "source": [
        "tfk = tf.keras\n",
        "tfkl = tf.keras.layers\n",
        "tfpl = tfp.layers\n",
        "tfd = tfp.distributions"
      ],
      "execution_count": 0,
      "outputs": []
    },
    {
      "cell_type": "code",
      "metadata": {
        "id": "TLkKnlhfUad3",
        "colab_type": "code",
        "colab": {}
      },
      "source": [
        "encoder = tf.keras.Sequential([tf.keras.layers.InputLayer(input_shape=input_shape, name='encoder_input'),\n",
        "                               dense_layers(intermediary_dims),tf.keras.layers.Dense(tfp.layers.MultivariateNormalTriL.params_size(latent_dim), activation=None),\n",
        "    tfp.layers.MultivariateNormalTriL(latent_dim, activity_regularizer=tfp.layers.KLDivergenceRegularizer(prior)),], name='encoder')"
      ],
      "execution_count": 0,
      "outputs": []
    },
    {
      "cell_type": "code",
      "metadata": {
        "id": "eyPA5_IZWOVP",
        "colab_type": "code",
        "colab": {
          "base_uri": "https://localhost:8080/",
          "height": 422
        },
        "outputId": "11d46486-ae86-4bb3-d8ae-80a47ea41b42"
      },
      "source": [
        "plot_model(encoder, to_file='vae_mlp_encoder.png', show_shapes=True)"
      ],
      "execution_count": 41,
      "outputs": [
        {
          "output_type": "execute_result",
          "data": {
            "image/png": "[encoded data removed]",
            "text/plain": [
              "<IPython.core.display.Image object>"
            ]
          },
          "metadata": {
            "tags": []
          },
          "execution_count": 41
        }
      ]
    },
    {
      "cell_type": "code",
      "metadata": {
        "id": "Ylxd0f-_fxEp",
        "colab_type": "code",
        "colab": {}
      },
      "source": [
        "# encoder = tfk.Sequential([\n",
        "#     tfkl.InputLayer(input_shape=input_shape, name='encoder_input'),\n",
        "#     dense_layers(intermediary_dims),\n",
        "#     tfkl.Dense(tfpl.MultivariateNormalTriL.params_size(latent_dim), activation=None),\n",
        "#     tfpl.MultivariateNormalTriL(latent_dim, \n",
        "#                            activity_regularizer=tfpl.KLDivergenceRegularizer(prior)),\n",
        "# ], name='encoder')"
      ],
      "execution_count": 0,
      "outputs": []
    },
    {
      "cell_type": "code",
      "metadata": {
        "id": "Q7ZoDWsPecFY",
        "colab_type": "code",
        "colab": {}
      },
      "source": [
        "# list(reversed(intermediary_dims))[8,10,20]\n",
        "# input_shape=[latent_dim] [2]\n",
        "# print(input_shape)\n",
        "# list(dense_layers(reversed(intermediary_dims)))"
      ],
      "execution_count": 0,
      "outputs": []
    },
    {
      "cell_type": "code",
      "metadata": {
        "id": "mwg2uf2bWRhN",
        "colab_type": "code",
        "colab": {}
      },
      "source": [
        "decoder = tfk.Sequential([\n",
        "    tfkl.InputLayer(input_shape=[latent_dim]),\n",
        "    dense_layers(reversed(intermediary_dims)),\n",
        "    tfkl.Dense(tfpl.IndependentNormal.params_size(original_dim), activation=None),\n",
        "    tfpl.IndependentNormal(original_dim),\n",
        "], name='decoder')"
      ],
      "execution_count": 0,
      "outputs": []
    },
    {
      "cell_type": "code",
      "metadata": {
        "id": "z1608HMPWUHr",
        "colab_type": "code",
        "outputId": "269d54c2-435e-4997-9783-da78d5123191",
        "colab": {
          "base_uri": "https://localhost:8080/",
          "height": 252
        }
      },
      "source": [
        "decoder.summary()"
      ],
      "execution_count": 44,
      "outputs": [
        {
          "output_type": "stream",
          "text": [
            "Model: \"decoder\"\n",
            "_________________________________________________________________\n",
            "Layer (type)                 Output Shape              Param #   \n",
            "=================================================================\n",
            "sequential_1 (Sequential)    (None, 20)                334       \n",
            "_________________________________________________________________\n",
            "dense_7 (Dense)              (None, 60)                1260      \n",
            "_________________________________________________________________\n",
            "independent_normal (Independ ((None, 30), (None, 30))  0         \n",
            "=================================================================\n",
            "Total params: 1,594\n",
            "Trainable params: 1,594\n",
            "Non-trainable params: 0\n",
            "_________________________________________________________________\n"
          ],
          "name": "stdout"
        }
      ]
    },
    {
      "cell_type": "code",
      "metadata": {
        "id": "shlVu8bTWc5f",
        "colab_type": "code",
        "outputId": "35015369-89be-4418-fde1-a680015ac528",
        "colab": {
          "base_uri": "https://localhost:8080/",
          "height": 422
        }
      },
      "source": [
        "plot_model(decoder, to_file='vae_mlp_decoder.png', show_shapes=True)"
      ],
      "execution_count": 45,
      "outputs": [
        {
          "output_type": "execute_result",
          "data": {
            "image/png": "[encoded data removed]",
            "text/plain": [
              "<IPython.core.display.Image object>"
            ]
          },
          "metadata": {
            "tags": []
          },
          "execution_count": 45
        }
      ]
    },
    {
      "cell_type": "code",
      "metadata": {
        "id": "7tiMjBo_Rpwi",
        "colab_type": "code",
        "colab": {}
      },
      "source": [
        "vae = tfk.Model(inputs=encoder.inputs,outputs=decoder(encoder.outputs[0]),name='vae_mlp')"
      ],
      "execution_count": 0,
      "outputs": []
    },
    {
      "cell_type": "code",
      "metadata": {
        "id": "Ih-C1Md5C9db",
        "colab_type": "code",
        "colab": {
          "base_uri": "https://localhost:8080/",
          "height": 319
        },
        "outputId": "fc7a1ad5-c34e-4047-951e-453b5aba2fa7"
      },
      "source": [
        "vae.summary()"
      ],
      "execution_count": 48,
      "outputs": [
        {
          "output_type": "stream",
          "text": [
            "Model: \"vae_mlp\"\n",
            "_________________________________________________________________\n",
            "Layer (type)                 Output Shape              Param #   \n",
            "=================================================================\n",
            "encoder_input (InputLayer)   [(None, 30)]              0         \n",
            "_________________________________________________________________\n",
            "sequential (Sequential)      (None, 8)                 918       \n",
            "_________________________________________________________________\n",
            "dense_3 (Dense)              (None, 5)                 45        \n",
            "_________________________________________________________________\n",
            "multivariate_normal_tri_l (M ((None, 2), (None, 2))    0         \n",
            "_________________________________________________________________\n",
            "decoder (Sequential)         (None, 30)                1594      \n",
            "=================================================================\n",
            "Total params: 2,557\n",
            "Trainable params: 2,557\n",
            "Non-trainable params: 0\n",
            "_________________________________________________________________\n"
          ],
          "name": "stdout"
        }
      ]
    },
    {
      "cell_type": "markdown",
      "metadata": {
        "id": "avs37B_1ZvRc",
        "colab_type": "text"
      },
      "source": [
        ""
      ]
    },
    {
      "cell_type": "code",
      "metadata": {
        "id": "A0Ha0Rz8Rm6A",
        "colab_type": "code",
        "colab": {}
      },
      "source": [
        "negloglik = lambda x, rv_x: -rv_x.log_prob(x)"
      ],
      "execution_count": 0,
      "outputs": []
    },
    {
      "cell_type": "code",
      "metadata": {
        "id": "6JgjLoLjDU5P",
        "colab_type": "code",
        "colab": {
          "base_uri": "https://localhost:8080/",
          "height": 34
        },
        "outputId": "74fe6416-ce47-4d3a-d731-d3a75d59394b"
      },
      "source": [
        "negloglik"
      ],
      "execution_count": 50,
      "outputs": [
        {
          "output_type": "execute_result",
          "data": {
            "text/plain": [
              "<function __main__.<lambda>>"
            ]
          },
          "metadata": {
            "tags": []
          },
          "execution_count": 50
        }
      ]
    },
    {
      "cell_type": "code",
      "metadata": {
        "id": "Ji2aanIRZTMf",
        "colab_type": "code",
        "colab": {}
      },
      "source": [
        "vae.compile(optimizer=tf.keras.optimizers.Nadam(), loss=negloglik)"
      ],
      "execution_count": 0,
      "outputs": []
    },
    {
      "cell_type": "code",
      "metadata": {
        "id": "2n4URF0hZdhn",
        "colab_type": "code",
        "colab": {
          "base_uri": "https://localhost:8080/",
          "height": 319
        },
        "outputId": "59399e47-2809-4e43-cc75-8793d5a3c39a"
      },
      "source": [
        "vae.summary()"
      ],
      "execution_count": 52,
      "outputs": [
        {
          "output_type": "stream",
          "text": [
            "Model: \"vae_mlp\"\n",
            "_________________________________________________________________\n",
            "Layer (type)                 Output Shape              Param #   \n",
            "=================================================================\n",
            "encoder_input (InputLayer)   [(None, 30)]              0         \n",
            "_________________________________________________________________\n",
            "sequential (Sequential)      (None, 8)                 918       \n",
            "_________________________________________________________________\n",
            "dense_3 (Dense)              (None, 5)                 45        \n",
            "_________________________________________________________________\n",
            "multivariate_normal_tri_l (M ((None, 2), (None, 2))    0         \n",
            "_________________________________________________________________\n",
            "decoder (Sequential)         (None, 30)                1594      \n",
            "=================================================================\n",
            "Total params: 2,557\n",
            "Trainable params: 2,557\n",
            "Non-trainable params: 0\n",
            "_________________________________________________________________\n"
          ],
          "name": "stdout"
        }
      ]
    },
    {
      "cell_type": "code",
      "metadata": {
        "id": "YhR1fi48Zd0V",
        "colab_type": "code",
        "colab": {
          "base_uri": "https://localhost:8080/",
          "height": 533
        },
        "outputId": "d71137d8-b235-42d8-c1be-88fc50284998"
      },
      "source": [
        "plot_model(vae,to_file='vae_mlp.png',show_shapes=True)"
      ],
      "execution_count": 53,
      "outputs": [
        {
          "output_type": "execute_result",
          "data": {
            "image/png": "[encoded data removed]",
            "text/plain": [
              "<IPython.core.display.Image object>"
            ]
          },
          "metadata": {
            "tags": []
          },
          "execution_count": 53
        }
      ]
    },
    {
      "cell_type": "code",
      "metadata": {
        "id": "bj1UmdJkoDqK",
        "colab_type": "code",
        "colab": {}
      },
      "source": [
        "x = data.drop([\"Class\"], axis=1)\n",
        "y = data[\"Class\"].values\n",
        "\n",
        "x_norm, x_fraud = x.values[y == 0], x.values[y == 1]\n",
        "\n",
        "x_norm_sample = x_norm[np.random.randint(x_norm.shape[0], size=100000), :]\n",
        "x_norm_train_sample, x_norm_val_sample = train_test_split(x_norm_sample, test_size=0.2)"
      ],
      "execution_count": 0,
      "outputs": []
    },
    {
      "cell_type": "code",
      "metadata": {
        "id": "Ne7sZgu5D5Tv",
        "colab_type": "code",
        "colab": {}
      },
      "source": [
        "tf_train = tf.data.Dataset.from_tensor_slices((x_norm_train_sample, x_norm_train_sample)).batch(batch_size).prefetch(tf.data.experimental.AUTOTUNE).shuffle(int(10e4))\n",
        "tf_val = tf.data.Dataset.from_tensor_slices((x_norm_val_sample, x_norm_val_sample)).batch(batch_size).prefetch(tf.data.experimental.AUTOTUNE).shuffle(int(10e4))"
      ],
      "execution_count": 0,
      "outputs": []
    },
    {
      "cell_type": "code",
      "metadata": {
        "id": "WkNU1bjlD5aw",
        "colab_type": "code",
        "colab": {
          "base_uri": "https://localhost:8080/",
          "height": 134
        },
        "outputId": "8459c005-0c35-4700-caf0-e3b83e0057e2"
      },
      "source": [
        "print(x.shape)\n",
        "print(y.shape)\n",
        "print(x_norm.shape)\n",
        "print(x_fraud.shape)\n",
        "print(x_norm_sample.shape)\n",
        "print(x_norm_train_sample.shape)\n",
        "print(x_norm_val_sample.shape)"
      ],
      "execution_count": 58,
      "outputs": [
        {
          "output_type": "stream",
          "text": [
            "(213605, 30)\n",
            "(213605,)\n",
            "(213233, 30)\n",
            "(372, 30)\n",
            "(100000, 30)\n",
            "(80000, 30)\n",
            "(20000, 30)\n"
          ],
          "name": "stdout"
        }
      ]
    },
    {
      "cell_type": "code",
      "metadata": {
        "id": "HwtLUXuHEsx7",
        "colab_type": "code",
        "colab": {}
      },
      "source": [
        "#len(y[y==1])"
      ],
      "execution_count": 0,
      "outputs": []
    },
    {
      "cell_type": "code",
      "metadata": {
        "id": "xduCJICTD5eo",
        "colab_type": "code",
        "colab": {}
      },
      "source": [
        "checkpointer = ModelCheckpoint(filepath='bestmodel.h5', verbose=0, save_best_only=True)\n",
        "earlystopper = EarlyStopping(monitor='val_loss', mode='min', min_delta=0.005, patience=20, verbose=0, restore_best_weights=True)"
      ],
      "execution_count": 0,
      "outputs": []
    },
    {
      "cell_type": "code",
      "metadata": {
        "id": "1YNZigAsD5Xn",
        "colab_type": "code",
        "colab": {}
      },
      "source": [
        "hist = vae.fit(tf_train,epochs=max_epochs,shuffle=True,verbose=0,validation_data=tf_val,callbacks=[checkpointer, earlystopper])"
      ],
      "execution_count": 0,
      "outputs": []
    },
    {
      "cell_type": "code",
      "metadata": {
        "id": "hTLQ9eS_EOlG",
        "colab_type": "code",
        "colab": {
          "base_uri": "https://localhost:8080/",
          "height": 295
        },
        "outputId": "8c96bd91-8f4a-43bc-de81-f3a3c24ef4e9"
      },
      "source": [
        "plot_loss(hist)"
      ],
      "execution_count": 72,
      "outputs": [
        {
          "output_type": "display_data",
          "data": {
            "image/png": "[encoded data removed]",
            "text/plain": [
              "<Figure size 432x288 with 1 Axes>"
            ]
          },
          "metadata": {
            "tags": []
          }
        }
      ]
    },
    {
      "cell_type": "code",
      "metadata": {
        "id": "QjlaYPHtKY2u",
        "colab_type": "code",
        "colab": {}
      },
      "source": [
        ""
      ],
      "execution_count": 0,
      "outputs": []
    }
  ]
}